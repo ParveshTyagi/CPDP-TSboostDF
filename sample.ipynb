{
 "cells": [
  {
   "cell_type": "code",
   "execution_count": 1,
   "metadata": {},
   "outputs": [],
   "source": [
    "import pandas as pd\n",
    "import numpy as np\n",
    "\n",
    "source = pd.read_csv('Data/xerces-1.2.csv')\n",
    "\n",
    "X_source = np.array(source.drop(['name', 'version', 'name.1'], axis=1), dtype='float32')\n",
    "y_source = np.array(source['bug'], dtype='int8')\n",
    "\n",
    "y_source[y_source>0] = 1"
   ]
  },
  {
   "cell_type": "code",
   "execution_count": 2,
   "metadata": {},
   "outputs": [],
   "source": [
    "from imblearn.over_sampling import ADASYN\n",
    "sampler = ADASYN(random_state=35)\n",
    "X_train, y_train = sampler.fit_resample(X_source, y_source)"
   ]
  },
  {
   "cell_type": "code",
   "execution_count": 3,
   "metadata": {},
   "outputs": [
    {
     "data": {
      "text/plain": [
       "GaussianNB()"
      ]
     },
     "execution_count": 3,
     "metadata": {},
     "output_type": "execute_result"
    }
   ],
   "source": [
    "from sklearn.naive_bayes import GaussianNB\n",
    "\n",
    "clf = GaussianNB()\n",
    "clf.fit(X_train, y_train)"
   ]
  },
  {
   "cell_type": "code",
   "execution_count": 4,
   "metadata": {},
   "outputs": [],
   "source": [
    "target = pd.read_csv('Data/arc.csv')\n",
    "\n",
    "X_test = np.array(target.drop(['name', 'version', 'name.1'], axis=1), dtype='float32')\n",
    "y_test = np.array(target['bug'], dtype='int8')\n",
    "\n",
    "y_test[y_test>0] = 1"
   ]
  },
  {
   "cell_type": "code",
   "execution_count": 5,
   "metadata": {},
   "outputs": [
    {
     "name": "stdout",
     "output_type": "stream",
     "text": [
      "F1 Score:  0.8571428571428571\n",
      "MCC score:  0.8469895538599198\n"
     ]
    }
   ],
   "source": [
    "from sklearn.metrics import f1_score, matthews_corrcoef\n",
    "y_pred = clf.predict(X_test)\n",
    "\n",
    "print(\"F1 Score: \", f1_score(y_test, y_pred))\n",
    "print(\"MCC score: \", matthews_corrcoef(y_test, y_pred))"
   ]
  },
  {
   "cell_type": "code",
   "execution_count": 6,
   "metadata": {},
   "outputs": [
    {
     "name": "stdout",
     "output_type": "stream",
     "text": [
      "Tomcat\n",
      "F1 Score:  0.7586206896551725\n",
      "MCC score:  0.7568156664945852\n"
     ]
    }
   ],
   "source": [
    "target = pd.read_csv('Data/tomcat.csv')\n",
    "\n",
    "print('Tomcat')\n",
    "\n",
    "X_test = np.array(target.drop(['name', 'version', 'name.1'], axis=1), dtype='float32')\n",
    "y_test = np.array(target['bug'], dtype='int8')\n",
    "\n",
    "y_test[y_test>0] = 1\n",
    "\n",
    "y_pred = clf.predict(X_test)\n",
    "\n",
    "print(\"F1 Score: \", f1_score(y_test, y_pred))\n",
    "print(\"MCC score: \", matthews_corrcoef(y_test, y_pred))"
   ]
  },
  {
   "cell_type": "code",
   "execution_count": 7,
   "metadata": {},
   "outputs": [
    {
     "name": "stdout",
     "output_type": "stream",
     "text": [
      "Xalan\n",
      "F1 Score:  0.6918238993710693\n",
      "MCC score:  0.6665581645088141\n"
     ]
    }
   ],
   "source": [
    "target = pd.read_csv('Data/xalan-2.4.csv')\n",
    "\n",
    "print('Xalan')\n",
    "\n",
    "X_test = np.array(target.drop(['name', 'version', 'name.1'], axis=1), dtype='float32')\n",
    "y_test = np.array(target['bug'], dtype='int8')\n",
    "\n",
    "y_test[y_test>0] = 1\n",
    "\n",
    "y_pred = clf.predict(X_test)\n",
    "\n",
    "print(\"F1 Score: \", f1_score(y_test, y_pred))\n",
    "print(\"MCC score: \", matthews_corrcoef(y_test, y_pred))"
   ]
  }
 ],
 "metadata": {
  "interpreter": {
   "hash": "17003a00d693b49c58e5a8544376b3278b7ee65ae1087e8340f53ebe15ab5f09"
  },
  "kernelspec": {
   "display_name": "Python 3.10.2 64-bit",
   "language": "python",
   "name": "python3"
  },
  "language_info": {
   "codemirror_mode": {
    "name": "ipython",
    "version": 3
   },
   "file_extension": ".py",
   "mimetype": "text/x-python",
   "name": "python",
   "nbconvert_exporter": "python",
   "pygments_lexer": "ipython3",
   "version": "3.10.2"
  },
  "orig_nbformat": 4
 },
 "nbformat": 4,
 "nbformat_minor": 2
}
