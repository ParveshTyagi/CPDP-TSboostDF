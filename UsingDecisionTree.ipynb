{
 "cells": [
  {
   "cell_type": "code",
   "execution_count": 1,
   "metadata": {},
   "outputs": [
    {
     "name": "stdout",
     "output_type": "stream",
     "text": [
      "     name     version                                             name.1  wmc  \\\n",
      "0  Tomcat  6.0.389418  org.apache.coyote.http11.filters.VoidOutputFilter    8   \n",
      "1  Tomcat  6.0.389418                org.apache.el.parser.AstGreaterThan    2   \n",
      "2  Tomcat  6.0.389418                          org.apache.coyote.Request   56   \n",
      "3  Tomcat  6.0.389418                   javax.el.MethodNotFoundException    4   \n",
      "4  Tomcat  6.0.389418                           org.apache.naming.EjbRef    3   \n",
      "\n",
      "   dit  noc  cbo  rfc  lcom  ca  ...  dam  moa      mfa       cam  ic  cbm  \\\n",
      "0    1    0    6   14    26   2  ...  1.0    2  0.00000  0.392857   0    0   \n",
      "1    4    0    4    5     1   1  ...  0.0    0  0.97561  0.666667   1    1   \n",
      "2    1    0   49   89  1310  40  ...  1.0   24  0.00000  0.137500   0    0   \n",
      "3    5    1    0    8     6   0  ...  0.0    0  1.00000  0.666667   0    0   \n",
      "4    2    0    3    8     3   3  ...  0.0    0  0.93750  0.833333   0    0   \n",
      "\n",
      "         amc  max_cc  avg_cc  bug  \n",
      "0   3.500000       1  0.7500    0  \n",
      "1  17.000000       1  0.5000    0  \n",
      "2   8.821429       5  1.1964    0  \n",
      "3   4.000000       0  0.0000    0  \n",
      "4  22.000000       3  1.0000    0  \n",
      "\n",
      "[5 rows x 24 columns]\n"
     ]
    }
   ],
   "source": [
    "import pandas as pd\n",
    "df = pd.read_csv('Data/tomcat.csv')\n",
    "print(df.head())"
   ]
  },
  {
   "cell_type": "code",
   "execution_count": 2,
   "metadata": {},
   "outputs": [
    {
     "name": "stdout",
     "output_type": "stream",
     "text": [
      "   wmc  dit  noc  cbo  rfc  lcom  ca  ce  npm     lcom3  ...  dam  moa  \\\n",
      "0    8    1    0    6   14    26   2   0    7  1.000000  ...  1.0    2   \n",
      "1    2    4    0    4    5     1   1   0    2  2.000000  ...  0.0    0   \n",
      "2   56    1    0   49   89  1310  40   0   56  0.956474  ...  1.0   24   \n",
      "3    4    5    1    0    8     6   0   0    4  2.000000  ...  0.0    0   \n",
      "4    3    2    0    3    8     3   3   0    3  1.500000  ...  0.0    0   \n",
      "\n",
      "       mfa       cam  ic  cbm        amc  max_cc  avg_cc  bug  \n",
      "0  0.00000  0.392857   0    0   3.500000       1  0.7500    0  \n",
      "1  0.97561  0.666667   1    1  17.000000       1  0.5000    0  \n",
      "2  0.00000  0.137500   0    0   8.821429       5  1.1964    0  \n",
      "3  1.00000  0.666667   0    0   4.000000       0  0.0000    0  \n",
      "4  0.93750  0.833333   0    0  22.000000       3  1.0000    0  \n",
      "\n",
      "[5 rows x 21 columns]\n"
     ]
    }
   ],
   "source": [
    "df = df.drop(['name', 'version', 'name.1'], axis=1)\n",
    "\n",
    "print(df.head())"
   ]
  },
  {
   "cell_type": "code",
   "execution_count": 3,
   "metadata": {},
   "outputs": [
    {
     "name": "stdout",
     "output_type": "stream",
     "text": [
      "(858,)\n"
     ]
    }
   ],
   "source": [
    "import numpy as np\n",
    "\n",
    "features = np.array(df.drop(['bug'], axis=1), dtype='float32')\n",
    "labels = np.array(df['bug'], dtype='uint8')\n",
    "\n",
    "labels[labels>0] = 1\n",
    "\n",
    "print(labels.shape)"
   ]
  },
  {
   "cell_type": "code",
   "execution_count": 4,
   "metadata": {},
   "outputs": [],
   "source": [
    "from sklearn.preprocessing import StandardScaler\n",
    "scaler = StandardScaler().fit(features)\n",
    "features = scaler.transform(features)"
   ]
  },
  {
   "cell_type": "code",
   "execution_count": 5,
   "metadata": {},
   "outputs": [],
   "source": [
    "from sklearn.model_selection import train_test_split\n",
    "\n",
    "X_train, X_test, y_train, y_test = train_test_split(features, labels, test_size=0.33, random_state=42)"
   ]
  },
  {
   "cell_type": "code",
   "execution_count": 6,
   "metadata": {},
   "outputs": [
    {
     "name": "stdout",
     "output_type": "stream",
     "text": [
      "[520 520]\n"
     ]
    }
   ],
   "source": [
    "from imblearn.over_sampling import SMOTE\n",
    "sm = SMOTE()\n",
    "X_train, y_train = sm.fit_resample(X_train, y_train)\n",
    "counts = np.bincount(y_train)\n",
    "print(counts)"
   ]
  },
  {
   "cell_type": "code",
   "execution_count": 7,
   "metadata": {},
   "outputs": [
    {
     "data": {
      "text/plain": [
       "DecisionTreeClassifier()"
      ]
     },
     "execution_count": 7,
     "metadata": {},
     "output_type": "execute_result"
    }
   ],
   "source": [
    "from sklearn.tree import DecisionTreeClassifier\n",
    "\n",
    "clf = DecisionTreeClassifier()\n",
    "clf.fit(X_train, y_train)"
   ]
  },
  {
   "cell_type": "code",
   "execution_count": 8,
   "metadata": {},
   "outputs": [
    {
     "name": "stdout",
     "output_type": "stream",
     "text": [
      "0.8169014084507042\n"
     ]
    }
   ],
   "source": [
    "from sklearn.metrics import accuracy_score\n",
    "\n",
    "y_pred = clf.predict(X_test)\n",
    "\n",
    "print(accuracy_score(y_test, y_pred))"
   ]
  },
  {
   "cell_type": "code",
   "execution_count": 9,
   "metadata": {},
   "outputs": [
    {
     "name": "stdout",
     "output_type": "stream",
     "text": [
      "[[220  41]\n",
      " [ 11  12]]\n"
     ]
    }
   ],
   "source": [
    "from sklearn.metrics import confusion_matrix\n",
    "\n",
    "print(confusion_matrix(y_test, y_pred))"
   ]
  },
  {
   "cell_type": "code",
   "execution_count": 10,
   "metadata": {},
   "outputs": [
    {
     "name": "stdout",
     "output_type": "stream",
     "text": [
      "(array([0.95238095, 0.22641509]), array([0.84291188, 0.52173913]), array([0.89430894, 0.31578947]), array([261,  23], dtype=int64))\n"
     ]
    }
   ],
   "source": [
    "from sklearn.metrics import precision_recall_fscore_support\n",
    "print(precision_recall_fscore_support(y_test, y_pred))"
   ]
  }
 ],
 "metadata": {
  "interpreter": {
   "hash": "8eccd946f83a0eb855a2b4ddfbe23f327fcc6e011e6c8b9018af80bb6bc59691"
  },
  "kernelspec": {
   "display_name": "Python 3.10.2 64-bit",
   "language": "python",
   "name": "python3"
  },
  "language_info": {
   "codemirror_mode": {
    "name": "ipython",
    "version": 3
   },
   "file_extension": ".py",
   "mimetype": "text/x-python",
   "name": "python",
   "nbconvert_exporter": "python",
   "pygments_lexer": "ipython3",
   "version": "3.10.2"
  },
  "orig_nbformat": 4
 },
 "nbformat": 4,
 "nbformat_minor": 2
}
