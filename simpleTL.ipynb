{
 "cells": [
  {
   "cell_type": "code",
   "execution_count": 191,
   "metadata": {},
   "outputs": [],
   "source": [
    "import pandas as pd\n",
    "df = pd.read_csv('Data/xerces-1.2.csv')\n",
    "df = df.drop(['name', 'version', 'name.1'], axis=1)"
   ]
  },
  {
   "cell_type": "code",
   "execution_count": 192,
   "metadata": {},
   "outputs": [
    {
     "name": "stdout",
     "output_type": "stream",
     "text": [
      "(440,)\n"
     ]
    }
   ],
   "source": [
    "import numpy as np\n",
    "\n",
    "X_sample = np.array(df.drop(['bug'], axis=1), dtype='float32')\n",
    "y_sample = np.array(df['bug'], dtype='uint8')\n",
    "\n",
    "y_sample[y_sample>0] = 1\n",
    "\n",
    "print(y_sample.shape)"
   ]
  },
  {
   "cell_type": "code",
   "execution_count": 193,
   "metadata": {},
   "outputs": [],
   "source": [
    "df = pd.read_csv('Data/tomcat.csv')\n",
    "df = df.drop(['name', 'version', 'name.1'], axis=1)"
   ]
  },
  {
   "cell_type": "code",
   "execution_count": 194,
   "metadata": {},
   "outputs": [],
   "source": [
    "X_target = np.array(df.drop(['bug'], axis=1), dtype='float32')\n",
    "y_target = np.array(df['bug'], dtype='uint8')\n",
    "\n",
    "y_target[y_target>0] = 1"
   ]
  },
  {
   "cell_type": "code",
   "execution_count": 195,
   "metadata": {},
   "outputs": [],
   "source": [
    "from sklearn.model_selection import train_test_split\n",
    "\n",
    "X_sample_train, X_sample_test, y_sample_train, y_sample_test = train_test_split(X_sample, y_sample, test_size=.3, random_state=43)"
   ]
  },
  {
   "cell_type": "code",
   "execution_count": 196,
   "metadata": {},
   "outputs": [
    {
     "data": {
      "text/plain": [
       "RandomizedSearchCV(cv=5, estimator=BaggingClassifier(), n_iter=50,\n",
       "                   param_distributions={'base_estimator': [GaussianNB(var_smoothing=1.838776980082327e-06)],\n",
       "                                        'base_estimator__var_smoothing': array([1.00000000e+00, 9.59320948e-01, 9.20296681e-01, 8.82859884e-01,\n",
       "       8.46945981e-01, 8.12493021e-01, 7.79441575e-01, 7.47734631e-01,\n",
       "       7.17317494e-01, 6.88137699e-01, 6.6014490...\n",
       "       1.57905331e-09, 1.51481892e-09, 1.45319752e-09, 1.39408283e-09,\n",
       "       1.33737286e-09, 1.28296980e-09, 1.23077980e-09, 1.18071285e-09,\n",
       "       1.13268257e-09, 1.08660611e-09, 1.04240401e-09, 1.00000000e-09]),\n",
       "                                        'bootstrap': [True, False],\n",
       "                                        'bootstrap_features': [True, False],\n",
       "                                        'max_features': [0.4, 0.6, 0.8, 1.0],\n",
       "                                        'max_samples': [0.4, 0.6, 0.8, 1.0],\n",
       "                                        'n_estimators': [5, 10, 15]},\n",
       "                   scoring=make_scorer(f1_score))"
      ]
     },
     "execution_count": 196,
     "metadata": {},
     "output_type": "execute_result"
    }
   ],
   "source": [
    "from sklearn.ensemble import BaggingClassifier\n",
    "from sklearn.metrics import make_scorer, f1_score, matthews_corrcoef\n",
    "from sklearn.naive_bayes import GaussianNB\n",
    "from sklearn.model_selection import RandomizedSearchCV\n",
    "from skopt import BayesSearchCV\n",
    "\n",
    "params_NB = {'var_smoothing': np.logspace(0,-9, num=100)}\n",
    "param_grid = {\n",
    " 'base_estimator' : [GaussianNB()],\n",
    " 'bootstrap': [True, False],\n",
    " 'bootstrap_features': [True, False],    \n",
    " 'n_estimators': [5, 10, 15],\n",
    " 'max_samples' : [0.4, 0.6, 0.8, 1.0],\n",
    " 'max_features' : [0.4, 0.6, 0.8, 1.0],\n",
    " 'base_estimator__var_smoothing' : np.logspace(0,-9, num=500)\n",
    "}\n",
    "clf = RandomizedSearchCV(estimator=BaggingClassifier(), \n",
    "                    param_distributions=param_grid,\n",
    "                 n_iter=50,\n",
    "                 scoring=make_scorer(f1_score),\n",
    "                 cv=5)\n",
    "\n",
    "clf.fit(X_sample_train, y_sample_train)"
   ]
  },
  {
   "cell_type": "code",
   "execution_count": 197,
   "metadata": {},
   "outputs": [
    {
     "name": "stdout",
     "output_type": "stream",
     "text": [
      "0.2\n",
      "0.11856381003147767\n"
     ]
    }
   ],
   "source": [
    "from sklearn.metrics import f1_score, matthews_corrcoef, accuracy_score\n",
    "\n",
    "y_sample_pred = clf.predict(X_sample_test)\n",
    "\n",
    "print(f1_score(y_sample_test, y_sample_pred))\n",
    "print(matthews_corrcoef(y_sample_test, y_sample_pred))"
   ]
  },
  {
   "cell_type": "code",
   "execution_count": 198,
   "metadata": {},
   "outputs": [
    {
     "name": "stdout",
     "output_type": "stream",
     "text": [
      "0.4154589371980676\n",
      "0.3563572849201563\n"
     ]
    }
   ],
   "source": [
    "y_target_pred = clf.predict(X_target)\n",
    "\n",
    "print(f1_score(y_target, y_target_pred))\n",
    "print(matthews_corrcoef(y_target, y_target_pred))"
   ]
  },
  {
   "cell_type": "code",
   "execution_count": 199,
   "metadata": {},
   "outputs": [],
   "source": [
    "from sklearn.metrics import confusion_matrix, recall_score\n",
    "\n",
    "def GMean_and_Balance(y_true, y_pred):\n",
    "    CM = confusion_matrix(y_true, y_pred)\n",
    "    TN = CM[0][0]\n",
    "    FN = CM[1][0]\n",
    "    TP = CM[1][1]\n",
    "    FP = CM[0][1]\n",
    "    \n",
    "    recall = recall_score(y_true, y_pred)\n",
    "    \n",
    "    pf = FP / (FP + TN)\n",
    "    \n",
    "    GMean = np.sqrt(recall * (1-pf))\n",
    "    \n",
    "    Balance = 1 - (np.sqrt(pf**2 + (1 - recall)**   2) / np.sqrt(2))\n",
    "    \n",
    "    return GMean, Balance"
   ]
  },
  {
   "cell_type": "code",
   "execution_count": 200,
   "metadata": {},
   "outputs": [
    {
     "data": {
      "text/plain": [
       "(0.7044384997618941, 0.6779884727261365)"
      ]
     },
     "execution_count": 200,
     "metadata": {},
     "output_type": "execute_result"
    }
   ],
   "source": [
    "GMean_and_Balance(y_target, y_target_pred)"
   ]
  },
  {
   "cell_type": "code",
   "execution_count": 201,
   "metadata": {},
   "outputs": [
    {
     "name": "stdout",
     "output_type": "stream",
     "text": [
      "0.33076923076923076\n",
      "0.5584415584415584\n"
     ]
    }
   ],
   "source": [
    "from sklearn.metrics import precision_score\n",
    "\n",
    "print(precision_score(y_target, y_target_pred))\n",
    "print(recall_score(y_target, y_target_pred))"
   ]
  },
  {
   "cell_type": "code",
   "execution_count": 202,
   "metadata": {},
   "outputs": [
    {
     "name": "stderr",
     "output_type": "stream",
     "text": [
      "c:\\Users\\parve\\AppData\\Local\\Programs\\Python\\Python310\\lib\\site-packages\\sklearn\\metrics\\_ranking.py:999: UndefinedMetricWarning: No positive samples in y_true, true positive value should be meaningless\n",
      "  warnings.warn(\n"
     ]
    },
    {
     "data": {
      "text/plain": [
       "nan"
      ]
     },
     "execution_count": 202,
     "metadata": {},
     "output_type": "execute_result"
    }
   ],
   "source": [
    "from sklearn.metrics import auc, roc_curve\n",
    "fpr, tpr, thresholds = roc_curve(y_target, y_target_pred, pos_label=2)\n",
    "auc(fpr, tpr)"
   ]
  }
 ],
 "metadata": {
  "interpreter": {
   "hash": "17003a00d693b49c58e5a8544376b3278b7ee65ae1087e8340f53ebe15ab5f09"
  },
  "kernelspec": {
   "display_name": "Python 3.10.2 64-bit",
   "language": "python",
   "name": "python3"
  },
  "language_info": {
   "codemirror_mode": {
    "name": "ipython",
    "version": 3
   },
   "file_extension": ".py",
   "mimetype": "text/x-python",
   "name": "python",
   "nbconvert_exporter": "python",
   "pygments_lexer": "ipython3",
   "version": "3.10.2"
  },
  "orig_nbformat": 4
 },
 "nbformat": 4,
 "nbformat_minor": 2
}
