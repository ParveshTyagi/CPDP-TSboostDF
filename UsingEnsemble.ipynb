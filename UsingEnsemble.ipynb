{
 "cells": [
  {
   "cell_type": "code",
   "execution_count": 278,
   "metadata": {},
   "outputs": [
    {
     "name": "stdout",
     "output_type": "stream",
     "text": [
      "     name version                                     name.1  wmc  dit  noc  \\\n",
      "0  xerces   1.2.0                   org.xml.sax.SAXException    6    3    3   \n",
      "1  xerces   1.2.0        org.apache.xerces.parsers.DOMParser   63    2    3   \n",
      "2  xerces   1.2.0   org.apache.xerces.dom.RangeExceptionImpl    1    5    0   \n",
      "3  xerces   1.2.0  org.apache.html.dom.HTMLIFrameElementImpl   21    4    0   \n",
      "4  xerces   1.2.0   org.apache.xerces.dom.ChildAndParentNode   25    3    3   \n",
      "\n",
      "   cbo  rfc  lcom  ca  ...       dam  moa       mfa       cam  ic  cbm  \\\n",
      "0    0   10     0   0  ...  1.000000    0  0.850000  0.555556   1    2   \n",
      "1   27  225   793   7  ...  0.896552    6  0.678947  0.152074   2   11   \n",
      "2    1    2     0   1  ...  0.000000    0  1.000000  1.000000   0    0   \n",
      "3    2   25   210   0  ...  0.000000    0  0.824561  0.523810   0    0   \n",
      "4   13   67    34   3  ...  0.833333    3  0.684932  0.205000   2   22   \n",
      "\n",
      "         amc  max_cc  avg_cc  bug  \n",
      "0   7.833333       3  1.0000    0  \n",
      "1  88.698413       6  1.6984    0  \n",
      "2   5.000000       0  0.0000    1  \n",
      "3   4.714286       1  0.9524    0  \n",
      "4  43.560000      11  2.2800    2  \n",
      "\n",
      "[5 rows x 24 columns]\n"
     ]
    }
   ],
   "source": [
    "import pandas as pd\n",
    "df = pd.read_csv('Data/xerces-1.2.csv')\n",
    "print(df.head())"
   ]
  },
  {
   "cell_type": "code",
   "execution_count": 279,
   "metadata": {},
   "outputs": [
    {
     "name": "stdout",
     "output_type": "stream",
     "text": [
      "   wmc  dit  noc  cbo  rfc  lcom  ca  ce  npm     lcom3  ...       dam  moa  \\\n",
      "0    6    3    3    0   10     0   0   0    6  0.000000  ...  1.000000    0   \n",
      "1   63    2    3   27  225   793   7  20   42  0.872080  ...  0.896552    6   \n",
      "2    1    5    0    1    2     0   1   0    1  2.000000  ...  0.000000    0   \n",
      "3   21    4    0    2   25   210   0   2   21  2.000000  ...  0.000000    0   \n",
      "4   25    3    3   13   67    34   3  11   14  0.638889  ...  0.833333    3   \n",
      "\n",
      "        mfa       cam  ic  cbm        amc  max_cc  avg_cc  bug  \n",
      "0  0.850000  0.555556   1    2   7.833333       3  1.0000    0  \n",
      "1  0.678947  0.152074   2   11  88.698413       6  1.6984    0  \n",
      "2  1.000000  1.000000   0    0   5.000000       0  0.0000    1  \n",
      "3  0.824561  0.523810   0    0   4.714286       1  0.9524    0  \n",
      "4  0.684932  0.205000   2   22  43.560000      11  2.2800    2  \n",
      "\n",
      "[5 rows x 21 columns]\n"
     ]
    }
   ],
   "source": [
    "df = df.drop(['name', 'version', 'name.1'], axis=1)\n",
    "\n",
    "print(df.head())"
   ]
  },
  {
   "cell_type": "code",
   "execution_count": 280,
   "metadata": {},
   "outputs": [
    {
     "name": "stdout",
     "output_type": "stream",
     "text": [
      "(440,)\n"
     ]
    }
   ],
   "source": [
    "import numpy as np\n",
    "\n",
    "features = np.array(df.drop(['bug'], axis=1), dtype='float32')\n",
    "labels = np.array(df['bug'], dtype='uint8')\n",
    "\n",
    "labels[labels>0] = 1\n",
    "\n",
    "print(labels.shape)"
   ]
  },
  {
   "cell_type": "code",
   "execution_count": 281,
   "metadata": {},
   "outputs": [],
   "source": [
    "from sklearn.model_selection import train_test_split\n",
    "\n",
    "X_train, X_test, y_train, y_test = train_test_split(features, labels, test_size=0.3, random_state=23)"
   ]
  },
  {
   "cell_type": "code",
   "execution_count": 282,
   "metadata": {},
   "outputs": [],
   "source": [
    "from imblearn.over_sampling import ADASYN\n",
    "\n",
    "ib = ADASYN(random_state=12)\n",
    "X_train, y_train = ib.fit_resample(X_test, y_test)"
   ]
  },
  {
   "cell_type": "code",
   "execution_count": 283,
   "metadata": {},
   "outputs": [
    {
     "data": {
      "text/plain": [
       "BaggingClassifier(base_estimator=RandomForestClassifier())"
      ]
     },
     "execution_count": 283,
     "metadata": {},
     "output_type": "execute_result"
    }
   ],
   "source": [
    "from sklearn.ensemble import BaggingClassifier, RandomForestClassifier\n",
    "clf = BaggingClassifier(base_estimator=RandomForestClassifier())\n",
    "clf.fit(X_train, y_train)"
   ]
  },
  {
   "cell_type": "code",
   "execution_count": 284,
   "metadata": {},
   "outputs": [
    {
     "name": "stdout",
     "output_type": "stream",
     "text": [
      "0.9696969696969697\n"
     ]
    }
   ],
   "source": [
    "from sklearn.metrics import accuracy_score\n",
    "\n",
    "y_pred = clf.predict(X_test)\n",
    "\n",
    "print(accuracy_score(y_test, y_pred))"
   ]
  },
  {
   "cell_type": "code",
   "execution_count": 285,
   "metadata": {},
   "outputs": [
    {
     "name": "stdout",
     "output_type": "stream",
     "text": [
      "0.9\n",
      "0.8885233166386386\n"
     ]
    }
   ],
   "source": [
    "from sklearn.metrics import f1_score, matthews_corrcoef\n",
    "print(f1_score(y_test, y_pred))\n",
    "print(matthews_corrcoef(y_test, y_pred))"
   ]
  },
  {
   "cell_type": "code",
   "execution_count": 286,
   "metadata": {},
   "outputs": [],
   "source": [
    "df2 = pd.read_csv('Data/arc.csv')\n",
    "x_target = np.array(df2.drop(['name', 'version', 'name.1', 'bug'], axis=1), dtype='float32')\n",
    "y_target = np.array(df2['bug'], dtype='int8')\n",
    "y_target[y_target>0] = 1"
   ]
  },
  {
   "cell_type": "code",
   "execution_count": 287,
   "metadata": {},
   "outputs": [],
   "source": [
    "y_target_pred = clf.predict(x_target)"
   ]
  },
  {
   "cell_type": "code",
   "execution_count": 288,
   "metadata": {},
   "outputs": [
    {
     "name": "stdout",
     "output_type": "stream",
     "text": [
      "0.36\n",
      "0.28513744463115676\n"
     ]
    }
   ],
   "source": [
    "print(f1_score(y_target, y_target_pred))\n",
    "print(matthews_corrcoef(y_target, y_target_pred))"
   ]
  }
 ],
 "metadata": {
  "interpreter": {
   "hash": "17003a00d693b49c58e5a8544376b3278b7ee65ae1087e8340f53ebe15ab5f09"
  },
  "kernelspec": {
   "display_name": "Python 3.10.2 64-bit",
   "language": "python",
   "name": "python3"
  },
  "language_info": {
   "codemirror_mode": {
    "name": "ipython",
    "version": 3
   },
   "file_extension": ".py",
   "mimetype": "text/x-python",
   "name": "python",
   "nbconvert_exporter": "python",
   "pygments_lexer": "ipython3",
   "version": "3.10.2"
  },
  "orig_nbformat": 4
 },
 "nbformat": 4,
 "nbformat_minor": 2
}
