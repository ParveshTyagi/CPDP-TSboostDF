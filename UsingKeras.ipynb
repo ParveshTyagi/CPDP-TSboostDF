{
 "cells": [
  {
   "cell_type": "code",
   "execution_count": 87,
   "metadata": {},
   "outputs": [
    {
     "name": "stdout",
     "output_type": "stream",
     "text": [
      "          name  version                                             name.1  \\\n",
      "0  ArcPlatform        1     pl.arcilook.controller.JabberAccountController   \n",
      "1  ArcPlatform        1  pl.arcilook.controller.settings.TaskController...   \n",
      "2  ArcPlatform        1        pl.arcilook.exception.ServiceLogicException   \n",
      "3  ArcPlatform        1                 pl.arcilook.service.ContactService   \n",
      "4  ArcPlatform        1   pl.arcilook.exception.NotProjectManagerException   \n",
      "\n",
      "   wmc  dit  noc  cbo  rfc  lcom  ca  ...       dam  moa       mfa       cam  \\\n",
      "0    7    1    0    6   19     7   0  ...  1.000000    2  0.000000  0.366667   \n",
      "1   13    1    0    1   17    64   0  ...  1.000000    0  0.000000  0.461538   \n",
      "2    7    4    4   48   12    19  47  ...  0.333333    0  0.866667  0.458333   \n",
      "3    4    1    0    4    4     6   2  ...  0.000000    0  0.000000  1.000000   \n",
      "4    4    5    0    2    8     6   1  ...  0.000000    0  1.000000  0.666667   \n",
      "\n",
      "   ic  cbm        amc  max_cc  avg_cc  bug  \n",
      "0   0    0  15.142857       3  1.1429    0  \n",
      "1   0    0   7.461538       3  1.3846    0  \n",
      "2   0    0   4.857143       1  0.2857    0  \n",
      "3   0    0   0.000000       1  1.0000    0  \n",
      "4   0    0   4.000000       0  0.0000    0  \n",
      "\n",
      "[5 rows x 24 columns]\n"
     ]
    }
   ],
   "source": [
    "import pandas as pd\n",
    "df = pd.read_csv('Data/arc.csv')\n",
    "print(df.head())"
   ]
  },
  {
   "cell_type": "code",
   "execution_count": 88,
   "metadata": {},
   "outputs": [
    {
     "name": "stdout",
     "output_type": "stream",
     "text": [
      "   wmc  dit  noc  cbo  rfc  lcom  ca  ce  npm     lcom3  ...       dam  moa  \\\n",
      "0    7    1    0    6   19     7   0   6    6  0.750000  ...  1.000000    2   \n",
      "1   13    1    0    1   17    64   0   1   12  0.916667  ...  1.000000    0   \n",
      "2    7    4    4   48   12    19  47   1    6  0.944444  ...  0.333333    0   \n",
      "3    4    1    0    4    4     6   2   2    4  2.000000  ...  0.000000    0   \n",
      "4    4    5    0    2    8     6   1   1    4  2.000000  ...  0.000000    0   \n",
      "\n",
      "        mfa       cam  ic  cbm        amc  max_cc  avg_cc  bug  \n",
      "0  0.000000  0.366667   0    0  15.142857       3  1.1429    0  \n",
      "1  0.000000  0.461538   0    0   7.461538       3  1.3846    0  \n",
      "2  0.866667  0.458333   0    0   4.857143       1  0.2857    0  \n",
      "3  0.000000  1.000000   0    0   0.000000       1  1.0000    0  \n",
      "4  1.000000  0.666667   0    0   4.000000       0  0.0000    0  \n",
      "\n",
      "[5 rows x 21 columns]\n"
     ]
    }
   ],
   "source": [
    "df = df.drop(['name', 'version', 'name.1'], axis=1)\n",
    "\n",
    "print(df.head())"
   ]
  },
  {
   "cell_type": "code",
   "execution_count": 89,
   "metadata": {},
   "outputs": [
    {
     "name": "stdout",
     "output_type": "stream",
     "text": [
      "(234,)\n"
     ]
    }
   ],
   "source": [
    "import numpy as np\n",
    "\n",
    "features = np.array(df.drop(['bug'], axis=1), dtype='float32')\n",
    "labels = np.array(df['bug'], dtype='uint8')\n",
    "\n",
    "labels[labels>0] = 1\n",
    "\n",
    "print(labels.shape)"
   ]
  },
  {
   "cell_type": "code",
   "execution_count": 90,
   "metadata": {},
   "outputs": [],
   "source": [
    "from sklearn.preprocessing import StandardScaler\n",
    "scaler = StandardScaler().fit(features)\n",
    "features = scaler.transform(features)"
   ]
  },
  {
   "cell_type": "code",
   "execution_count": 91,
   "metadata": {},
   "outputs": [],
   "source": [
    "from sklearn.model_selection import train_test_split\n",
    "\n",
    "X_train, X_test, y_train, y_test = train_test_split(features, labels, test_size=0.2, random_state=42)"
   ]
  },
  {
   "cell_type": "code",
   "execution_count": 92,
   "metadata": {},
   "outputs": [
    {
     "name": "stdout",
     "output_type": "stream",
     "text": [
      "[165 165]\n"
     ]
    }
   ],
   "source": [
    "from imblearn.over_sampling import SMOTE\n",
    "sm = SMOTE()\n",
    "X_train, y_train = sm.fit_resample(X_train, y_train)\n",
    "counts = np.bincount(y_train)\n",
    "print(counts)"
   ]
  },
  {
   "cell_type": "code",
   "execution_count": 93,
   "metadata": {},
   "outputs": [
    {
     "name": "stdout",
     "output_type": "stream",
     "text": [
      "Model: \"sequential_7\"\n",
      "_________________________________________________________________\n",
      " Layer (type)                Output Shape              Param #   \n",
      "=================================================================\n",
      " dense_28 (Dense)            (None, 5)                 105       \n",
      "                                                                 \n",
      " dense_29 (Dense)            (None, 5)                 30        \n",
      "                                                                 \n",
      " dropout_14 (Dropout)        (None, 5)                 0         \n",
      "                                                                 \n",
      " dense_30 (Dense)            (None, 5)                 30        \n",
      "                                                                 \n",
      " dropout_15 (Dropout)        (None, 5)                 0         \n",
      "                                                                 \n",
      " dense_31 (Dense)            (None, 1)                 6         \n",
      "                                                                 \n",
      "=================================================================\n",
      "Total params: 171\n",
      "Trainable params: 171\n",
      "Non-trainable params: 0\n",
      "_________________________________________________________________\n"
     ]
    }
   ],
   "source": [
    "from tensorflow import keras\n",
    "\n",
    "model = keras.Sequential(\n",
    "    [\n",
    "        keras.layers.Dense(\n",
    "            5, activation=\"relu\", input_shape=(X_train.shape[-1],)\n",
    "        ),\n",
    "        keras.layers.Dense(5, activation=\"relu\"),\n",
    "        keras.layers.Dropout(0.6),\n",
    "        keras.layers.Dense(5, activation=\"relu\"),\n",
    "        keras.layers.Dropout(0.6),\n",
    "        keras.layers.Dense(1, activation=\"sigmoid\"),\n",
    "    ]\n",
    ")\n",
    "model.summary()"
   ]
  },
  {
   "cell_type": "code",
   "execution_count": 94,
   "metadata": {},
   "outputs": [
    {
     "name": "stdout",
     "output_type": "stream",
     "text": [
      "Epoch 1/5\n",
      "330/330 - 3s - loss: 0.7096 - fn: 45.0000 - fp: 108.0000 - tn: 57.0000 - tp: 120.0000 - precision: 0.5263 - recall: 0.7273 - 3s/epoch - 8ms/step\n",
      "Epoch 2/5\n",
      "330/330 - 1s - loss: 0.6871 - fn: 18.0000 - fp: 130.0000 - tn: 35.0000 - tp: 147.0000 - precision: 0.5307 - recall: 0.8909 - 1s/epoch - 3ms/step\n",
      "Epoch 3/5\n",
      "330/330 - 1s - loss: 0.6768 - fn: 18.0000 - fp: 129.0000 - tn: 36.0000 - tp: 147.0000 - precision: 0.5326 - recall: 0.8909 - 1s/epoch - 4ms/step\n",
      "Epoch 4/5\n",
      "330/330 - 1s - loss: 0.6794 - fn: 7.0000 - fp: 134.0000 - tn: 31.0000 - tp: 158.0000 - precision: 0.5411 - recall: 0.9576 - 1s/epoch - 4ms/step\n",
      "Epoch 5/5\n",
      "330/330 - 1s - loss: 0.6712 - fn: 13.0000 - fp: 121.0000 - tn: 44.0000 - tp: 152.0000 - precision: 0.5568 - recall: 0.9212 - 1s/epoch - 4ms/step\n"
     ]
    },
    {
     "data": {
      "text/plain": [
       "<keras.callbacks.History at 0x157ae31fd30>"
      ]
     },
     "execution_count": 94,
     "metadata": {},
     "output_type": "execute_result"
    }
   ],
   "source": [
    "metrics = [\n",
    "    keras.metrics.FalseNegatives(name=\"fn\"),\n",
    "    keras.metrics.FalsePositives(name=\"fp\"),\n",
    "    keras.metrics.TrueNegatives(name=\"tn\"),\n",
    "    keras.metrics.TruePositives(name=\"tp\"),\n",
    "    keras.metrics.Precision(name=\"precision\"),\n",
    "    keras.metrics.Recall(name=\"recall\"),\n",
    "]\n",
    "\n",
    "model.compile(\n",
    "    optimizer=keras.optimizers.Adam(1e-2), loss=\"binary_crossentropy\", metrics=metrics\n",
    ")\n",
    "\n",
    "\n",
    "model.fit(\n",
    "    X_train,\n",
    "    y_train,\n",
    "    batch_size=1,\n",
    "    epochs=5,\n",
    "    verbose=2,\n",
    ")"
   ]
  },
  {
   "cell_type": "code",
   "execution_count": 95,
   "metadata": {},
   "outputs": [
    {
     "name": "stdout",
     "output_type": "stream",
     "text": [
      "2/2 [==============================] - 1s 5ms/step - loss: 0.6528 - fn: 0.0000e+00 - fp: 26.0000 - tn: 16.0000 - tp: 5.0000 - precision: 0.1613 - recall: 1.0000\n"
     ]
    }
   ],
   "source": [
    "scores = model.evaluate(X_test, y_test) "
   ]
  },
  {
   "cell_type": "code",
   "execution_count": 96,
   "metadata": {},
   "outputs": [],
   "source": [
    "df2 = pd.read_csv('Data/tomcat.csv')\n",
    "x_target = np.array(df2.drop(['name', 'version', 'name.1', 'bug'], axis=1), dtype='float32')\n",
    "y_target = np.array(df2['bug'], dtype='int8')\n",
    "y_target[y_target>0] = 1"
   ]
  },
  {
   "cell_type": "code",
   "execution_count": 97,
   "metadata": {},
   "outputs": [
    {
     "name": "stdout",
     "output_type": "stream",
     "text": [
      "27/27 [==============================] - 1s 4ms/step - loss: 13.5469 - fn: 54.0000 - fp: 227.0000 - tn: 554.0000 - tp: 23.0000 - precision: 0.0920 - recall: 0.2987    \n"
     ]
    },
    {
     "data": {
      "text/plain": [
       "[13.546855926513672,\n",
       " 54.0,\n",
       " 227.0,\n",
       " 554.0,\n",
       " 23.0,\n",
       " 0.09200000017881393,\n",
       " 0.29870128631591797]"
      ]
     },
     "execution_count": 97,
     "metadata": {},
     "output_type": "execute_result"
    }
   ],
   "source": [
    "model.evaluate(x_target, y_target)"
   ]
  },
  {
   "cell_type": "code",
   "execution_count": 98,
   "metadata": {},
   "outputs": [],
   "source": [
    "y_target_pred = model.predict(x_target)\n",
    "y_target_pred = np.round(y_target_pred)"
   ]
  },
  {
   "cell_type": "code",
   "execution_count": 99,
   "metadata": {},
   "outputs": [
    {
     "name": "stdout",
     "output_type": "stream",
     "text": [
      "0.14067278287461776\n",
      "0.005062356062541434\n"
     ]
    }
   ],
   "source": [
    "from sklearn.metrics import f1_score, matthews_corrcoef\n",
    "print(f1_score(y_target, y_target_pred))\n",
    "print(matthews_corrcoef(y_target, y_target_pred))"
   ]
  },
  {
   "cell_type": "code",
   "execution_count": 100,
   "metadata": {},
   "outputs": [],
   "source": [
    "from sklearn.metrics import confusion_matrix, recall_score\n",
    "\n",
    "def GMean_and_Balance(y_true, y_pred):\n",
    "    CM = confusion_matrix(y_true, y_pred)\n",
    "    TN = CM[0][0]\n",
    "    FN = CM[1][0]\n",
    "    TP = CM[1][1]\n",
    "    FP = CM[0][1]\n",
    "    \n",
    "    recall = recall_score(y_true, y_pred)\n",
    "    \n",
    "    pf = FP / (FP + TN)\n",
    "    \n",
    "    GMean = np.sqrt(recall * (1-pf))\n",
    "    \n",
    "    Balance = 1 - (np.sqrt(pf**2 + (1 - recall)**   2) / np.sqrt(2))\n",
    "    \n",
    "    return GMean, Balance"
   ]
  },
  {
   "cell_type": "code",
   "execution_count": 101,
   "metadata": {},
   "outputs": [
    {
     "data": {
      "text/plain": [
       "(0.46030736193618477, 0.4632043964121846)"
      ]
     },
     "execution_count": 101,
     "metadata": {},
     "output_type": "execute_result"
    }
   ],
   "source": [
    "GMean_and_Balance(y_target, y_target_pred)"
   ]
  }
 ],
 "metadata": {
  "interpreter": {
   "hash": "17003a00d693b49c58e5a8544376b3278b7ee65ae1087e8340f53ebe15ab5f09"
  },
  "kernelspec": {
   "display_name": "Python 3.10.2 64-bit",
   "language": "python",
   "name": "python3"
  },
  "language_info": {
   "codemirror_mode": {
    "name": "ipython",
    "version": 3
   },
   "file_extension": ".py",
   "mimetype": "text/x-python",
   "name": "python",
   "nbconvert_exporter": "python",
   "pygments_lexer": "ipython3",
   "version": "3.10.2"
  },
  "orig_nbformat": 4
 },
 "nbformat": 4,
 "nbformat_minor": 2
}
