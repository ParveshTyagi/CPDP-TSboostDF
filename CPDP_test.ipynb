{
 "cells": [
  {
   "cell_type": "code",
   "execution_count": 154,
   "metadata": {},
   "outputs": [
    {
     "name": "stdout",
     "output_type": "stream",
     "text": [
      "          name  version                                             name.1  \\\n",
      "0  ArcPlatform        1     pl.arcilook.controller.JabberAccountController   \n",
      "1  ArcPlatform        1  pl.arcilook.controller.settings.TaskController...   \n",
      "2  ArcPlatform        1        pl.arcilook.exception.ServiceLogicException   \n",
      "3  ArcPlatform        1                 pl.arcilook.service.ContactService   \n",
      "4  ArcPlatform        1   pl.arcilook.exception.NotProjectManagerException   \n",
      "\n",
      "   wmc  dit  noc  cbo  rfc  lcom  ca  ...       dam  moa       mfa       cam  \\\n",
      "0    7    1    0    6   19     7   0  ...  1.000000    2  0.000000  0.366667   \n",
      "1   13    1    0    1   17    64   0  ...  1.000000    0  0.000000  0.461538   \n",
      "2    7    4    4   48   12    19  47  ...  0.333333    0  0.866667  0.458333   \n",
      "3    4    1    0    4    4     6   2  ...  0.000000    0  0.000000  1.000000   \n",
      "4    4    5    0    2    8     6   1  ...  0.000000    0  1.000000  0.666667   \n",
      "\n",
      "   ic  cbm        amc  max_cc  avg_cc  bug  \n",
      "0   0    0  15.142857       3  1.1429    0  \n",
      "1   0    0   7.461538       3  1.3846    0  \n",
      "2   0    0   4.857143       1  0.2857    0  \n",
      "3   0    0   0.000000       1  1.0000    0  \n",
      "4   0    0   4.000000       0  0.0000    0  \n",
      "\n",
      "[5 rows x 24 columns]\n"
     ]
    }
   ],
   "source": [
    "import pandas as pd\n",
    "df = pd.read_csv('Data/arc.csv')\n",
    "print(df.head())"
   ]
  },
  {
   "cell_type": "code",
   "execution_count": 155,
   "metadata": {},
   "outputs": [
    {
     "name": "stdout",
     "output_type": "stream",
     "text": [
      "   wmc  dit  noc  cbo  rfc  lcom  ca  ce  npm     lcom3  ...       dam  moa  \\\n",
      "0    7    1    0    6   19     7   0   6    6  0.750000  ...  1.000000    2   \n",
      "1   13    1    0    1   17    64   0   1   12  0.916667  ...  1.000000    0   \n",
      "2    7    4    4   48   12    19  47   1    6  0.944444  ...  0.333333    0   \n",
      "3    4    1    0    4    4     6   2   2    4  2.000000  ...  0.000000    0   \n",
      "4    4    5    0    2    8     6   1   1    4  2.000000  ...  0.000000    0   \n",
      "\n",
      "        mfa       cam  ic  cbm        amc  max_cc  avg_cc  bug  \n",
      "0  0.000000  0.366667   0    0  15.142857       3  1.1429    0  \n",
      "1  0.000000  0.461538   0    0   7.461538       3  1.3846    0  \n",
      "2  0.866667  0.458333   0    0   4.857143       1  0.2857    0  \n",
      "3  0.000000  1.000000   0    0   0.000000       1  1.0000    0  \n",
      "4  1.000000  0.666667   0    0   4.000000       0  0.0000    0  \n",
      "\n",
      "[5 rows x 21 columns]\n"
     ]
    }
   ],
   "source": [
    "df = df.drop(['name', 'version', 'name.1'], axis=1)\n",
    "\n",
    "print(df.head())"
   ]
  },
  {
   "cell_type": "code",
   "execution_count": 156,
   "metadata": {},
   "outputs": [
    {
     "name": "stdout",
     "output_type": "stream",
     "text": [
      "(234,)\n"
     ]
    }
   ],
   "source": [
    "import numpy as np\n",
    "\n",
    "X_sample = np.array(df.drop(['bug'], axis=1), dtype='float32')\n",
    "y_sample = np.array(df['bug'], dtype='uint8')\n",
    "\n",
    "y_sample[y_sample>0] = 1\n",
    "\n",
    "print(y_sample.shape)"
   ]
  },
  {
   "cell_type": "code",
   "execution_count": 157,
   "metadata": {},
   "outputs": [
    {
     "name": "stdout",
     "output_type": "stream",
     "text": [
      "   wmc  dit  noc  cbo  rfc  lcom  ca  ce  npm     lcom3  ...       dam  moa  \\\n",
      "0    6    3    3    0   10     0   0   0    6  0.000000  ...  1.000000    0   \n",
      "1   63    2    3   27  225   793   7  20   42  0.872080  ...  0.896552    6   \n",
      "2    1    5    0    1    2     0   1   0    1  2.000000  ...  0.000000    0   \n",
      "3   21    4    0    2   25   210   0   2   21  2.000000  ...  0.000000    0   \n",
      "4   25    3    3   13   67    34   3  11   14  0.638889  ...  0.833333    3   \n",
      "\n",
      "        mfa       cam  ic  cbm        amc  max_cc  avg_cc  bug  \n",
      "0  0.850000  0.555556   1    2   7.833333       3  1.0000    0  \n",
      "1  0.678947  0.152074   2   11  88.698413       6  1.6984    0  \n",
      "2  1.000000  1.000000   0    0   5.000000       0  0.0000    1  \n",
      "3  0.824561  0.523810   0    0   4.714286       1  0.9524    0  \n",
      "4  0.684932  0.205000   2   22  43.560000      11  2.2800    2  \n",
      "\n",
      "[5 rows x 21 columns]\n"
     ]
    }
   ],
   "source": [
    "df = pd.read_csv('Data/xerces-1.2.csv')\n",
    "df = df.drop(['name', 'version', 'name.1'], axis=1)\n",
    "print(df.head())"
   ]
  },
  {
   "cell_type": "code",
   "execution_count": 158,
   "metadata": {},
   "outputs": [],
   "source": [
    "X_target = np.array(df.drop(['bug'], axis=1), dtype='float32')\n",
    "y_target = np.array(df['bug'], dtype='uint8')\n",
    "\n",
    "y_target[y_target>0] = 1"
   ]
  },
  {
   "cell_type": "code",
   "execution_count": 159,
   "metadata": {},
   "outputs": [],
   "source": [
    "from sklearn.model_selection import train_test_split\n",
    "\n",
    "X_train, X_test, y_train, y_test = train_test_split(X_sample, y_sample, random_state=13)"
   ]
  },
  {
   "cell_type": "code",
   "execution_count": 160,
   "metadata": {},
   "outputs": [],
   "source": [
    "from sklearn.preprocessing import StandardScaler\n",
    "\n",
    "sc = StandardScaler()\n",
    "\n",
    "X_train = sc.fit_transform(X_train)"
   ]
  },
  {
   "cell_type": "code",
   "execution_count": 161,
   "metadata": {},
   "outputs": [],
   "source": [
    "from imblearn.over_sampling import SMOTE\n",
    "\n",
    "imb = SMOTE()\n",
    "X_train, y_train = imb.fit_resample(X_train, y_train)"
   ]
  },
  {
   "cell_type": "code",
   "execution_count": 162,
   "metadata": {},
   "outputs": [
    {
     "data": {
      "text/plain": [
       "BaggingClassifier(base_estimator=KNeighborsClassifier())"
      ]
     },
     "execution_count": 162,
     "metadata": {},
     "output_type": "execute_result"
    }
   ],
   "source": [
    "from sklearn.naive_bayes import GaussianNB\n",
    "from skopt import BayesSearchCV\n",
    "from sklearn.ensemble import BaggingClassifier, RandomForestClassifier\n",
    "from sklearn.neighbors import KNeighborsClassifier\n",
    "from AlgoCPCD import TSboostDF\n",
    "\n",
    "X_target = sc.transform(X_target)\n",
    "\n",
    "# param_grid = {\n",
    "#             'base_estimator' : [KNeighborsClassifier()],\n",
    "#             'max_features' : [0.2, 0.4, 0.6, 0.8, 1.0],\n",
    "#             'base_estimator__n_neighbors' : [3,5,11,19]\n",
    "#             }\n",
    "\n",
    "# param_grid = {\n",
    "#     'var_smoothing' : np.logspace(0, -9, num=300)\n",
    "# }\n",
    "\n",
    "# param_grid = {\n",
    "#     'n_neighbors' : [3,5,11,19],\n",
    "#     'weights' : ['uniform', 'distance'],\n",
    "#     'metric' : ['euclidean', 'manhattan']\n",
    "# }\n",
    "\n",
    "# model = BayesSearchCV(estimator=BaggingClassifier(), \n",
    "#                     search_spaces=param_grid,\n",
    "#                 n_iter=10,\n",
    "#                 scoring='f1',\n",
    "#                 cv=3)\n",
    "\n",
    "model = BaggingClassifier(base_estimator=KNeighborsClassifier())\n",
    "\n",
    "\n",
    "model.fit(X_train, y_train)\n",
    "\n",
    "# model = TSboostDF()\n",
    "# model.fit(X_train, y_train, X_target)"
   ]
  },
  {
   "cell_type": "code",
   "execution_count": 163,
   "metadata": {},
   "outputs": [
    {
     "name": "stdout",
     "output_type": "stream",
     "text": [
      "0.125 0.031227829014591122\n"
     ]
    }
   ],
   "source": [
    "from sklearn.metrics import f1_score, matthews_corrcoef\n",
    "X_test = sc.transform(X_test)\n",
    "y_pred = model.predict(X_test)\n",
    "print(f1_score(y_test, y_pred), matthews_corrcoef(y_test, y_pred))"
   ]
  },
  {
   "cell_type": "code",
   "execution_count": 164,
   "metadata": {},
   "outputs": [
    {
     "name": "stdout",
     "output_type": "stream",
     "text": [
      "0.1951219512195122 0.01502909632169254\n"
     ]
    }
   ],
   "source": [
    "from sklearn.metrics import f1_score, matthews_corrcoef\n",
    "y_pred = model.predict(X_target)\n",
    "print(f1_score(y_target, y_pred), matthews_corrcoef(y_target, y_pred))"
   ]
  }
 ],
 "metadata": {
  "interpreter": {
   "hash": "17003a00d693b49c58e5a8544376b3278b7ee65ae1087e8340f53ebe15ab5f09"
  },
  "kernelspec": {
   "display_name": "Python 3.10.2 64-bit",
   "language": "python",
   "name": "python3"
  },
  "language_info": {
   "codemirror_mode": {
    "name": "ipython",
    "version": 3
   },
   "file_extension": ".py",
   "mimetype": "text/x-python",
   "name": "python",
   "nbconvert_exporter": "python",
   "pygments_lexer": "ipython3",
   "version": "3.10.2"
  },
  "orig_nbformat": 4
 },
 "nbformat": 4,
 "nbformat_minor": 2
}
