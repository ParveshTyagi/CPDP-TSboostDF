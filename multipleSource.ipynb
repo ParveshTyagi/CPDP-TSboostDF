{
 "cells": [
  {
   "cell_type": "code",
   "execution_count": 108,
   "metadata": {},
   "outputs": [],
   "source": [
    "import pandas as pd\n",
    "df1 = pd.read_csv('Data/xerces-1.2.csv')\n",
    "df2 = pd.read_csv('Data/tomcat.csv')\n",
    "df = pd.concat([df1, df2])"
   ]
  },
  {
   "cell_type": "code",
   "execution_count": 109,
   "metadata": {},
   "outputs": [],
   "source": [
    "df = df.drop(['name', 'version', 'name.1'], axis=1)"
   ]
  },
  {
   "cell_type": "code",
   "execution_count": 110,
   "metadata": {},
   "outputs": [],
   "source": [
    "import numpy as np\n",
    "X_source = np.array(df.drop(['bug'], axis=1), dtype='float32')\n",
    "y_source = np.array(df['bug'], dtype='int8')\n",
    "y_source[y_source>0] = 1"
   ]
  },
  {
   "cell_type": "code",
   "execution_count": 111,
   "metadata": {},
   "outputs": [],
   "source": [
    "df_t = pd.read_csv('Data/arc.csv')\n",
    "X_target = np.array(df_t.drop(['name', 'version', 'name.1', 'bug'], axis=1), dtype='float32')\n",
    "y_target = np.array(df_t['bug'], dtype='int8')\n",
    "y_target[y_target>0] = 1\n"
   ]
  },
  {
   "cell_type": "code",
   "execution_count": 112,
   "metadata": {},
   "outputs": [],
   "source": [
    "def similarityWeight(X_sample, X_target):\n",
    "    max_elem = np.amax(X_target, axis=0)\n",
    "    min_elem = np.amin(X_target, axis=0)\n",
    "    \n",
    "    similarityValue = []\n",
    "    \n",
    "    s_max = 0\n",
    "    \n",
    "    for i in range(X_sample.shape[0]):\n",
    "        s = 0\n",
    "        for j in range(X_sample.shape[1]):\n",
    "            if min_elem[j] <= X_sample[i,j] <= max_elem[j]:\n",
    "                s += 1\n",
    "        \n",
    "        s = s/X_sample.shape[1]\n",
    "        s_max = max(s_max, s)\n",
    "        similarityValue.append(s)\n",
    "    \n",
    "    similarityWeights = np.array(similarityValue)/s_max\n",
    "    \n",
    "    return similarityWeights"
   ]
  },
  {
   "cell_type": "code",
   "execution_count": 113,
   "metadata": {},
   "outputs": [],
   "source": [
    "def dataSelector(X_sample, y_sample, similarityWeights, threshold):\n",
    "    X = []\n",
    "    y = []\n",
    "    for i in range(len(y_sample)):\n",
    "        if similarityWeights[i] >= threshold:\n",
    "            X.append(X_sample[i])\n",
    "            y.append(y_sample[i])\n",
    "    X = np.asarray(X)\n",
    "    y = np.asarray(y)\n",
    "    return X, y"
   ]
  },
  {
   "cell_type": "code",
   "execution_count": 114,
   "metadata": {},
   "outputs": [
    {
     "data": {
      "text/plain": [
       "979"
      ]
     },
     "execution_count": 114,
     "metadata": {},
     "output_type": "execute_result"
    }
   ],
   "source": [
    "threshold = 1\n",
    "sw = similarityWeight(X_source, X_target)\n",
    "X, y = dataSelector(X_source, y_source, sw, threshold)\n",
    "len(y)"
   ]
  },
  {
   "cell_type": "code",
   "execution_count": 115,
   "metadata": {},
   "outputs": [],
   "source": [
    "from sklearn.model_selection import train_test_split\n",
    "\n",
    "X_train, X_test, y_train, y_test = train_test_split(X, y, test_size=0.3, random_state=12)"
   ]
  },
  {
   "cell_type": "code",
   "execution_count": 116,
   "metadata": {},
   "outputs": [],
   "source": [
    "from imblearn.over_sampling import ADASYN\n",
    "imb = ADASYN()\n",
    "# X_train, y_train = imb.fit_resample(X_train, y_train)"
   ]
  },
  {
   "cell_type": "code",
   "execution_count": 117,
   "metadata": {},
   "outputs": [
    {
     "data": {
      "text/plain": [
       "GridSearchCV(cv=5,\n",
       "             estimator=BaggingClassifier(base_estimator=AdaBoostClassifier()),\n",
       "             param_grid={'max_samples': [0.6, 0.8, 1.0],\n",
       "                         'n_estimators': [5, 10, 15, 50]})"
      ]
     },
     "execution_count": 117,
     "metadata": {},
     "output_type": "execute_result"
    }
   ],
   "source": [
    "from sklearn.ensemble import BaggingClassifier, RandomForestClassifier, AdaBoostClassifier\n",
    "from sklearn.tree import DecisionTreeClassifier\n",
    "from sklearn.model_selection import GridSearchCV, RandomizedSearchCV\n",
    "from sklearn.metrics import f1_score, matthews_corrcoef, make_scorer\n",
    "from sklearn.naive_bayes import GaussianNB\n",
    "\n",
    "from sklearn.metrics import f1_score, make_scorer\n",
    "\n",
    "f1 = make_scorer(f1_score)\n",
    "\n",
    "param_grid = {  \n",
    " 'n_estimators': [5, 10, 15, 50],\n",
    " 'max_samples' : [0.6, 0.8, 1.0],\n",
    "}\n",
    "\n",
    "clf = GridSearchCV(BaggingClassifier(base_estimator=AdaBoostClassifier()), param_grid=param_grid, cv=5)\n",
    "\n",
    "# params_NB = {'var_smoothing': np.logspace(0,-9, num=300)}\n",
    "# clf = RandomizedSearchCV(estimator=GaussianNB(), \n",
    "#                  param_distributions=params_NB, \n",
    "#                  scoring=make_scorer(matthews_corrcoef),\n",
    "#                  cv=5)\n",
    "\n",
    "clf.fit(X_train, y_train)\n"
   ]
  },
  {
   "cell_type": "code",
   "execution_count": 118,
   "metadata": {},
   "outputs": [
    {
     "name": "stdout",
     "output_type": "stream",
     "text": [
      "F1 Score:  0.15384615384615385\n",
      "MCC score:  0.2767546517312798\n"
     ]
    }
   ],
   "source": [
    "y_train_pred = clf.predict(X_train)\n",
    "print(\"F1 Score: \", f1_score(y_train, y_train_pred))\n",
    "print(\"MCC score: \", matthews_corrcoef(y_train, y_train_pred))"
   ]
  },
  {
   "cell_type": "code",
   "execution_count": 119,
   "metadata": {},
   "outputs": [
    {
     "name": "stdout",
     "output_type": "stream",
     "text": [
      "F1 Score:  0.0\n",
      "MCC score:  -0.03485917507547887\n"
     ]
    }
   ],
   "source": [
    "y_test_pred = clf.predict(X_test)\n",
    "print(\"F1 Score: \", f1_score(y_test, y_test_pred))\n",
    "print(\"MCC score: \", matthews_corrcoef(y_test, y_test_pred))"
   ]
  },
  {
   "cell_type": "code",
   "execution_count": 120,
   "metadata": {},
   "outputs": [
    {
     "name": "stdout",
     "output_type": "stream",
     "text": [
      "F1 Score:  0.0\n",
      "MCC score:  0.0\n"
     ]
    }
   ],
   "source": [
    "y_target_pred = clf.predict(X_target)\n",
    "print(\"F1 Score: \", f1_score(y_target, y_target_pred))\n",
    "print(\"MCC score: \", matthews_corrcoef(y_target, y_target_pred))"
   ]
  }
 ],
 "metadata": {
  "interpreter": {
   "hash": "17003a00d693b49c58e5a8544376b3278b7ee65ae1087e8340f53ebe15ab5f09"
  },
  "kernelspec": {
   "display_name": "Python 3.10.2 64-bit",
   "language": "python",
   "name": "python3"
  },
  "language_info": {
   "codemirror_mode": {
    "name": "ipython",
    "version": 3
   },
   "file_extension": ".py",
   "mimetype": "text/x-python",
   "name": "python",
   "nbconvert_exporter": "python",
   "pygments_lexer": "ipython3",
   "version": "3.10.2"
  },
  "orig_nbformat": 4
 },
 "nbformat": 4,
 "nbformat_minor": 2
}
